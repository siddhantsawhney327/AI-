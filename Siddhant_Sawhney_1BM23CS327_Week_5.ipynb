{
  "nbformat": 4,
  "nbformat_minor": 0,
  "metadata": {
    "colab": {
      "provenance": [],
      "authorship_tag": "ABX9TyNMNGgZ/vGVOQQxuNtndomT",
      "include_colab_link": true
    },
    "kernelspec": {
      "name": "python3",
      "display_name": "Python 3"
    },
    "language_info": {
      "name": "python"
    }
  },
  "cells": [
    {
      "cell_type": "markdown",
      "metadata": {
        "id": "view-in-github",
        "colab_type": "text"
      },
      "source": [
        "<a href=\"https://colab.research.google.com/github/siddhantsawhney327/AI-/blob/main/Siddhant_Sawhney_1BM23CS327_Week_5.ipynb\" target=\"_parent\"><img src=\"https://colab.research.google.com/assets/colab-badge.svg\" alt=\"Open In Colab\"/></a>"
      ]
    },
    {
      "cell_type": "code",
      "execution_count": 1,
      "metadata": {
        "colab": {
          "base_uri": "https://localhost:8080/"
        },
        "id": "AtWyasBC6lYp",
        "outputId": "d8c94f22-bc69-4720-e271-f0112eced7ca"
      },
      "outputs": [
        {
          "output_type": "stream",
          "name": "stdout",
          "text": [
            "Siddhant Sawhney - 1BM23CS327\n",
            "A B C | KB Result | Alpha Result\n",
            "---------------------\n",
            "F F F | F         | F\n",
            "F F T | F         | F\n",
            "F T F | F         | T\n",
            "F T T | T         | T\n",
            "T F F | T         | T\n",
            "T F T | F         | T\n",
            "T T F | T         | T\n",
            "T T T | T         | T\n",
            "\n",
            "The knowledge base entails alpha.\n"
          ]
        }
      ],
      "source": [
        "import itertools\n",
        "print(\"Siddhant Sawhney - 1BM23CS327\")\n",
        "def evaluate_formula(formula, truth_assignment):\n",
        "    eval_formula = formula\n",
        "    for symbol, value in truth_assignment.items():\n",
        "        eval_formula = eval_formula.replace(symbol, str(value))\n",
        "    return eval(eval_formula)\n",
        "\n",
        "def generate_truth_table(variables):\n",
        "    return list(itertools.product([False, True], repeat=len(variables)))\n",
        "\n",
        "def is_entailed(KB_formula, alpha_formula, variables):\n",
        "    truth_combinations = generate_truth_table(variables)\n",
        "    print(f\"{' '.join(variables)} | KB Result | Alpha Result\")\n",
        "    print(\"-\" * (len(variables) * 2 + 15))\n",
        "    for combination in truth_combinations:\n",
        "        truth_assignment = dict(zip(variables, combination))\n",
        "        KB_value = evaluate_formula(KB_formula, truth_assignment)\n",
        "        alpha_value = evaluate_formula(alpha_formula, truth_assignment)\n",
        "        result_str = \" \".join([\"T\" if value else \"F\" for value in combination])\n",
        "        print(f\"{result_str} | {'T' if KB_value else 'F'}         | {'T' if alpha_value else 'F'}\")\n",
        "        if KB_value and not alpha_value:\n",
        "            return False\n",
        "    return True\n",
        "\n",
        "KB = \"(A or C) and (B or not C)\"\n",
        "alpha = \"A or B\"\n",
        "variables = ['A', 'B', 'C']\n",
        "\n",
        "if is_entailed(KB, alpha, variables):\n",
        "    print(\"\\nThe knowledge base entails alpha.\")\n",
        "else:\n",
        "    print(\"\\nThe knowledge base does not entail alpha.\")\n"
      ]
    }
  ]
}