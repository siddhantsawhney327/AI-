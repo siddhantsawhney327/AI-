{
  "nbformat": 4,
  "nbformat_minor": 0,
  "metadata": {
    "colab": {
      "provenance": [],
      "authorship_tag": "ABX9TyPBWnGX0pBEw11B6lF256zB",
      "include_colab_link": true
    },
    "kernelspec": {
      "name": "python3",
      "display_name": "Python 3"
    },
    "language_info": {
      "name": "python"
    }
  },
  "cells": [
    {
      "cell_type": "markdown",
      "metadata": {
        "id": "view-in-github",
        "colab_type": "text"
      },
      "source": [
        "<a href=\"https://colab.research.google.com/github/siddhantsawhney327/AI-/blob/main/Week_5_Siddhant_Sawhney_1BM23CS327_Simulated_Annealing.ipynb\" target=\"_parent\"><img src=\"https://colab.research.google.com/assets/colab-badge.svg\" alt=\"Open In Colab\"/></a>"
      ]
    },
    {
      "cell_type": "code",
      "execution_count": 1,
      "metadata": {
        "colab": {
          "base_uri": "https://localhost:8080/"
        },
        "id": "thQEsNKl8HbS",
        "outputId": "804451ef-74c2-49df-a6e4-0c47e856e208"
      },
      "outputs": [
        {
          "output_type": "stream",
          "name": "stdout",
          "text": [
            "Siddhant Sawhney - 1BM23CS327\n",
            "Best position found: [4, 6, 0, 3, 1, 7, 5, 2]\n",
            "Number of non-attacking pairs: 28\n",
            "\n",
            "Board:\n",
            ". . Q . . . . .\n",
            ". . . . Q . . .\n",
            ". . . . . . . Q\n",
            ". . . Q . . . .\n",
            "Q . . . . . . .\n",
            ". . . . . . Q .\n",
            ". Q . . . . . .\n",
            ". . . . . Q . .\n",
            "\n"
          ]
        }
      ],
      "source": [
        "import random\n",
        "import math\n",
        "\n",
        "def cost(state):\n",
        "\n",
        "    attacks = 0\n",
        "    n = len(state)\n",
        "    for i in range(n):\n",
        "        for j in range(i + 1, n):\n",
        "            if state[i] == state[j] or abs(state[i] - state[j]) == abs(i - j):\n",
        "                attacks += 1\n",
        "    return attacks\n",
        "\n",
        "def get_neighbor(state):\n",
        "\n",
        "    neighbor = state[:]\n",
        "    i, j = random.sample(range(len(state)), 2)\n",
        "    neighbor[i], neighbor[j] = neighbor[j], neighbor[i]\n",
        "    return neighbor\n",
        "\n",
        "def simulated_annealing(n=8, max_iter=10000, temp=100.0, cooling=0.95):\n",
        "\n",
        "    current = list(range(n))\n",
        "    random.shuffle(current)\n",
        "    current_cost = cost(current)\n",
        "\n",
        "    temperature = temp\n",
        "    cooling_rate = cooling\n",
        "\n",
        "    best = current[:]\n",
        "    best_cost = current_cost\n",
        "\n",
        "    for _ in range(max_iter):\n",
        "        if temperature <= 0 or best_cost == 0:\n",
        "            break\n",
        "\n",
        "        neighbor = get_neighbor(current)\n",
        "        neighbor_cost = cost(neighbor)\n",
        "        delta = current_cost - neighbor_cost\n",
        "\n",
        "        if delta > 0 or random.random() < math.exp(delta / temperature):\n",
        "            current, current_cost = neighbor, neighbor_cost\n",
        "            if neighbor_cost < best_cost:\n",
        "                best, best_cost = neighbor[:], neighbor_cost\n",
        "\n",
        "        temperature *= cooling_rate\n",
        "\n",
        "    return best, best_cost\n",
        "\n",
        "def print_board(state):\n",
        "\n",
        "    n = len(state)\n",
        "    for row in range(n):\n",
        "        line = \" \".join(\"Q\" if state[col] == row else \".\" for col in range(n))\n",
        "        print(line)\n",
        "    print()\n",
        "\n",
        "\n",
        "n = 8\n",
        "solution, cost_val = simulated_annealing(n, max_iter=20000)\n",
        "print(\"Siddhant Sawhney - 1BM23CS327\")\n",
        "print(\"Best position found:\", solution)\n",
        "print(f\"Number of non-attacking pairs: {n*(n-1)//2 - cost_val}\")\n",
        "print(\"\\nBoard:\")\n",
        "print_board(solution)\n",
        ""
      ]
    }
  ]
}