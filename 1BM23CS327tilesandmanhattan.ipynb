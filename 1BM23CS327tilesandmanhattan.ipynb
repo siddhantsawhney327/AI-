{
  "nbformat": 4,
  "nbformat_minor": 0,
  "metadata": {
    "colab": {
      "provenance": [],
      "authorship_tag": "ABX9TyMuKUiuNpuPYo+rdye6rWHY",
      "include_colab_link": true
    },
    "kernelspec": {
      "name": "python3",
      "display_name": "Python 3"
    },
    "language_info": {
      "name": "python"
    }
  },
  "cells": [
    {
      "cell_type": "markdown",
      "metadata": {
        "id": "view-in-github",
        "colab_type": "text"
      },
      "source": [
        "<a href=\"https://colab.research.google.com/github/siddhantsawhney327/AI-/blob/main/1BM23CS327tilesandmanhattan.ipynb\" target=\"_parent\"><img src=\"https://colab.research.google.com/assets/colab-badge.svg\" alt=\"Open In Colab\"/></a>"
      ]
    },
    {
      "cell_type": "code",
      "execution_count": 1,
      "metadata": {
        "colab": {
          "base_uri": "https://localhost:8080/"
        },
        "id": "GQolS3VJp7O1",
        "outputId": "8f113a7b-c134-418e-9348-e5a83fdf766a"
      },
      "outputs": [
        {
          "output_type": "stream",
          "name": "stdout",
          "text": [
            "Misplaced Tiles: 6\n",
            "Manhattan Distance: 9\n"
          ]
        }
      ],
      "source": [
        "# 8-Puzzle heuristics\n",
        "\n",
        "# Goal state for reference\n",
        "goal_state = [\n",
        "    [1, 2, 3],\n",
        "    [4, 5, 6],\n",
        "    [7, 8, 0]   # 0 represents the blank tile\n",
        "]\n",
        "\n",
        "# Heuristic 1: Number of tiles out of place\n",
        "def misplaced_tiles(state):\n",
        "    misplaced = 0\n",
        "    for i in range(3):\n",
        "        for j in range(3):\n",
        "            if state[i][j] != 0 and state[i][j] != goal_state[i][j]:\n",
        "                misplaced += 1\n",
        "    return misplaced\n",
        "\n",
        "\n",
        "# Heuristic 2: Manhattan Distance\n",
        "def manhattan_distance(state):\n",
        "    distance = 0\n",
        "    for i in range(3):\n",
        "        for j in range(3):\n",
        "            value = state[i][j]\n",
        "            if value != 0:\n",
        "                # Find the goal position of the tile\n",
        "                goal_x = (value - 1) // 3\n",
        "                goal_y = (value - 1) % 3\n",
        "                distance += abs(i - goal_x) + abs(j - goal_y)\n",
        "    return distance\n",
        "\n",
        "\n",
        "# Example usage\n",
        "initial_state = [\n",
        "    [2, 8, 3],\n",
        "    [1, 6, 4],\n",
        "    [7, 0, 5]\n",
        "]\n",
        "\n",
        "print(\"Misplaced Tiles:\", misplaced_tiles(initial_state))\n",
        "print(\"Manhattan Distance:\", manhattan_distance(initial_state))\n"
      ]
    }
  ]
}