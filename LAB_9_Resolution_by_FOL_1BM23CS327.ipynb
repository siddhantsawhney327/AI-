{
  "nbformat": 4,
  "nbformat_minor": 0,
  "metadata": {
    "colab": {
      "provenance": [],
      "authorship_tag": "ABX9TyOMD8b4v/78uO9Lm699Mjo1",
      "include_colab_link": true
    },
    "kernelspec": {
      "name": "python3",
      "display_name": "Python 3"
    },
    "language_info": {
      "name": "python"
    }
  },
  "cells": [
    {
      "cell_type": "markdown",
      "metadata": {
        "id": "view-in-github",
        "colab_type": "text"
      },
      "source": [
        "<a href=\"https://colab.research.google.com/github/siddhantsawhney327/AI-/blob/main/LAB_9_Resolution_by_FOL_1BM23CS327.ipynb\" target=\"_parent\"><img src=\"https://colab.research.google.com/assets/colab-badge.svg\" alt=\"Open In Colab\"/></a>"
      ]
    },
    {
      "cell_type": "code",
      "source": [
        "def negate(literal):\n",
        "    \"\"\"Return negation of a literal.\"\"\"\n",
        "    return literal[1:] if literal.startswith(\"~\") else \"~\" + literal\n",
        "\n",
        "def resolve(clause1, clause2):\n",
        "    \"\"\"Try to resolve two clauses and return possible resolvents.\"\"\"\n",
        "    resolvents = []\n",
        "    for lit1 in clause1:\n",
        "        for lit2 in clause2:\n",
        "            if lit1 == negate(lit2):\n",
        "                new_clause = list(set(clause1 + clause2))\n",
        "                new_clause.remove(lit1)\n",
        "                new_clause.remove(lit2)\n",
        "                resolvents.append(new_clause)\n",
        "    return resolvents\n",
        "\n",
        "def resolution_algorithm(clauses):\n",
        "    \"\"\"Main Resolution Loop\"\"\"\n",
        "    new = set()\n",
        "    while True:\n",
        "        pairs = [(clauses[i], clauses[j]) for i in range(len(clauses)) for j in range(i+1, len(clauses))]\n",
        "        for (ci, cj) in pairs:\n",
        "            resolvents = resolve(ci, cj)\n",
        "            if [] in resolvents:\n",
        "                print(\"\\n🎉 Contradiction found! Query is PROVED TRUE by Resolution.\")\n",
        "                return True\n",
        "            new.update(map(tuple, resolvents))\n",
        "        if new.issubset(set(map(tuple, clauses))):\n",
        "            print(\"\\n⚠️ No contradiction found. Query CANNOT be proved from the Knowledge Base.\")\n",
        "            return False\n",
        "        for clause in new:\n",
        "            if list(clause) not in clauses:\n",
        "                clauses.append(list(clause))\n",
        "\n",
        "# ============================================================\n",
        "# MAIN PROGRAM\n",
        "# ============================================================\n",
        "\n",
        "print(\"🧠 FIRST ORDER LOGIC RESOLUTION SYSTEM\")\n",
        "print(\"---------------------------------------\")\n",
        "\n",
        "# Step 1️⃣ — Input Knowledge Base\n",
        "n = int(input(\"Enter number of statements in the Knowledge Base: \"))\n",
        "kb = []\n",
        "for i in range(n):\n",
        "    stmt = input(f\"Enter statement {i+1} (in simple logic form): \")\n",
        "    kb.append(stmt)\n",
        "\n",
        "# Step 2️⃣ — Input Query\n",
        "query = input(\"\\nEnter the query to prove: \")\n",
        "\n",
        "# Step 3️⃣ — Display KB and Query\n",
        "print(\"\\n🧩 Knowledge Base:\")\n",
        "for i, stmt in enumerate(kb, 1):\n",
        "    print(f\"{i}. {stmt}\")\n",
        "\n",
        "print(\"\\n🎯 Query:\", query)\n",
        "\n",
        "# Step 4️⃣ — Negate the Query for Proof by Contradiction\n",
        "negated_query = \"~\" + query if not query.startswith(\"~\") else query[1:]\n",
        "print(\"\\n🌀 Negated Query added to KB:\", negated_query)\n",
        "\n",
        "# Step 5️⃣ — Convert to Conceptual CNF Clauses (Manual style)\n",
        "# For simplicity, assume each KB statement is already near CNF form\n",
        "clauses = [stmt.replace(\" \", \"\").split(\"∨\") for stmt in kb]\n",
        "clauses.append([negated_query])\n",
        "\n",
        "print(\"\\n📜 Clauses for Resolution:\")\n",
        "for i, c in enumerate(clauses, 1):\n",
        "    print(f\"{i}. {c}\")\n",
        "\n",
        "# Step 6️⃣ — Run Resolution\n",
        "resolution_algorithm(clauses)"
      ],
      "metadata": {
        "colab": {
          "base_uri": "https://localhost:8080/"
        },
        "id": "7wpRLA-WM112",
        "outputId": "617beab0-0094-4e3a-9ad0-f1f069822b08"
      },
      "execution_count": 7,
      "outputs": [
        {
          "output_type": "stream",
          "name": "stdout",
          "text": [
            "🧠 FIRST ORDER LOGIC RESOLUTION SYSTEM\n",
            "---------------------------------------\n",
            "Enter number of statements in the Knowledge Base: 3\n",
            "Enter statement 1 (in simple logic form): ~Food(Peanuts) ∨ Likes(John, Peanuts)\n",
            "Enter statement 2 (in simple logic form): Food(Peanuts)\n",
            "Enter statement 3 (in simple logic form): Alive(Anil)\n",
            "\n",
            "Enter the query to prove: Likes(John, Peanuts)\n",
            "\n",
            "🧩 Knowledge Base:\n",
            "1. ~Food(Peanuts) ∨ Likes(John, Peanuts)\n",
            "2. Food(Peanuts)\n",
            "3. Alive(Anil)\n",
            "\n",
            "🎯 Query: Likes(John, Peanuts)\n",
            "\n",
            "🌀 Negated Query added to KB: ~Likes(John, Peanuts)\n",
            "\n",
            "📜 Clauses for Resolution:\n",
            "1. ['~Food(Peanuts)', 'Likes(John,Peanuts)']\n",
            "2. ['Food(Peanuts)']\n",
            "3. ['Alive(Anil)']\n",
            "4. ['~Likes(John, Peanuts)']\n",
            "\n",
            "⚠️ No contradiction found. Query CANNOT be proved from the Knowledge Base.\n"
          ]
        },
        {
          "output_type": "execute_result",
          "data": {
            "text/plain": [
              "False"
            ]
          },
          "metadata": {},
          "execution_count": 7
        }
      ]
    }
  ]
}