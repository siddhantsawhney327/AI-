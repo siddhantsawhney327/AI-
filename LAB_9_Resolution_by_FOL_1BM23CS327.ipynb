{
  "nbformat": 4,
  "nbformat_minor": 0,
  "metadata": {
    "colab": {
      "provenance": [],
      "authorship_tag": "ABX9TyMutj9xu8vtoqZIIU6sfhfL",
      "include_colab_link": true
    },
    "kernelspec": {
      "name": "python3",
      "display_name": "Python 3"
    },
    "language_info": {
      "name": "python"
    }
  },
  "cells": [
    {
      "cell_type": "markdown",
      "metadata": {
        "id": "view-in-github",
        "colab_type": "text"
      },
      "source": [
        "<a href=\"https://colab.research.google.com/github/siddhantsawhney327/AI-/blob/main/LAB_9_Resolution_by_FOL_1BM23CS327.ipynb\" target=\"_parent\"><img src=\"https://colab.research.google.com/assets/colab-badge.svg\" alt=\"Open In Colab\"/></a>"
      ]
    },
    {
      "cell_type": "code",
      "source": [
        "def negate(literal):\n",
        "    \"\"\"Return negation of a literal.\"\"\"\n",
        "    return literal[1:] if literal.startswith(\"~\") else \"~\" + literal\n",
        "\n",
        "def resolve(ci, cj):\n",
        "    \"\"\"Resolve two clauses and return resolvents + which literals were resolved.\"\"\"\n",
        "    resolvents = []\n",
        "    for lit1 in ci:\n",
        "        for lit2 in cj:\n",
        "            if lit1 == negate(lit2):\n",
        "                new_clause = list(set(ci + cj))\n",
        "                new_clause.remove(lit1)\n",
        "                new_clause.remove(lit2)\n",
        "                resolvents.append((new_clause, lit1, lit2))  # Track resolved literals\n",
        "    return resolvents\n",
        "\n",
        "def resolution_algorithm(clauses):\n",
        "    \"\"\"Main Resolution Loop — with Resolution Tree\"\"\"\n",
        "    new = set()\n",
        "    tree = {}  # parent tracking: child_clause -> (parents, resolved_literals)\n",
        "    step = 0\n",
        "\n",
        "    while True:\n",
        "        pairs = [(clauses[i], clauses[j]) for i in range(len(clauses)) for j in range(i+1, len(clauses))]\n",
        "        for (ci, cj) in pairs:\n",
        "            results = resolve(ci, cj)\n",
        "            for (resolvent, lit1, lit2) in results:\n",
        "                step += 1\n",
        "                resolvent_tuple = tuple(sorted(resolvent))\n",
        "                if resolvent_tuple not in tree:\n",
        "                    tree[resolvent_tuple] = ((tuple(ci), tuple(cj)), (lit1, lit2))\n",
        "                print(f\"\\nStep {step}: Resolving {ci} and {cj} on {lit1} / {lit2} ⇒ {resolvent}\")\n",
        "\n",
        "                if resolvent == []:\n",
        "                    print(\"\\n🎉 Contradiction (empty clause) found!\")\n",
        "                    print(\"✅ Query is PROVED TRUE by Resolution.\\n\")\n",
        "                    print(\"🌳 Resolution Tree (Trace):\\n\")\n",
        "                    print_tree(tree, resolvent_tuple)\n",
        "                    return True\n",
        "\n",
        "                new.add(resolvent_tuple)\n",
        "\n",
        "        if new.issubset(set(map(tuple, clauses))):\n",
        "            print(\"\\n⚠️ No contradiction found. Query CANNOT be proved from the Knowledge Base.\")\n",
        "            return False\n",
        "\n",
        "        for clause in new:\n",
        "            if list(clause) not in clauses:\n",
        "                clauses.append(list(clause))\n",
        "\n",
        "def print_tree(tree, final_clause):\n",
        "    \"\"\"Recursively print the resolution tree.\"\"\"\n",
        "    def helper(clause, indent=\"\"):\n",
        "        if clause not in tree:\n",
        "            print(indent + \"Clause: \" + str(list(clause)))\n",
        "            return\n",
        "        parents, resolved = tree[clause]\n",
        "        lit1, lit2 = resolved\n",
        "        print(indent + f\"Clause: {list(clause)}  (resolved {lit1}/{lit2})\")\n",
        "        print(indent + \" ├─ From:\")\n",
        "        helper(parents[0], indent + \" │  \")\n",
        "        print(indent + \" └─ And:\")\n",
        "        helper(parents[1], indent + \"    \")\n",
        "\n",
        "    helper(final_clause)\n",
        "\n",
        "# ============================================================\n",
        "# MAIN PROGRAM\n",
        "# ============================================================\n",
        "\n",
        "print(\"🧠 FIRST ORDER LOGIC RESOLUTION SYSTEM (with Tree)\")\n",
        "print(\"---------------------------------------------------\")\n",
        "\n",
        "# Step 1️⃣ — Input Knowledge Base\n",
        "n = int(input(\"Enter number of statements in the Knowledge Base: \"))\n",
        "kb = []\n",
        "for i in range(n):\n",
        "    stmt = input(f\"Enter statement {i+1} (in CNF using ∨ for OR): \")\n",
        "    kb.append(stmt)\n",
        "\n",
        "# Step 2️⃣ — Input Query\n",
        "query = input(\"\\nEnter the query to prove: \")\n",
        "\n",
        "# Step 3️⃣ — Negate Query for Proof by Contradiction\n",
        "negated_query = \"~\" + query if not query.startswith(\"~\") else query[1:]\n",
        "\n",
        "# Step 4️⃣ — Build Clauses\n",
        "clauses = [stmt.replace(\" \", \"\").split(\"∨\") for stmt in kb]\n",
        "clauses.append([negated_query])\n",
        "\n",
        "# Step 5️⃣ — Show Clauses\n",
        "print(\"\\n📜 Clauses for Resolution:\")\n",
        "for i, c in enumerate(clauses, 1):\n",
        "    print(f\"{i}. {c}\")\n",
        "\n",
        "# Step 6️⃣ — Run Resolution\n",
        "resolution_algorithm(clauses)"
      ],
      "metadata": {
        "colab": {
          "base_uri": "https://localhost:8080/"
        },
        "id": "7wpRLA-WM112",
        "outputId": "bbb11fac-6596-4027-d887-4f63a621c1ef"
      },
      "execution_count": 8,
      "outputs": [
        {
          "output_type": "stream",
          "name": "stdout",
          "text": [
            "🧠 FIRST ORDER LOGIC RESOLUTION SYSTEM (with Tree)\n",
            "---------------------------------------------------\n",
            "Enter number of statements in the Knowledge Base: 2\n",
            "Enter statement 1 (in CNF using ∨ for OR): ~Food(Peanuts) ∨ Likes(John,Peanuts)\n",
            "Enter statement 2 (in CNF using ∨ for OR): Food(Peanuts)\n",
            "\n",
            "Enter the query to prove: Likes(John,Peanuts)\n",
            "\n",
            "📜 Clauses for Resolution:\n",
            "1. ['~Food(Peanuts)', 'Likes(John,Peanuts)']\n",
            "2. ['Food(Peanuts)']\n",
            "3. ['~Likes(John,Peanuts)']\n",
            "\n",
            "Step 1: Resolving ['~Food(Peanuts)', 'Likes(John,Peanuts)'] and ['Food(Peanuts)'] on ~Food(Peanuts) / Food(Peanuts) ⇒ ['Likes(John,Peanuts)']\n",
            "\n",
            "Step 2: Resolving ['~Food(Peanuts)', 'Likes(John,Peanuts)'] and ['~Likes(John,Peanuts)'] on Likes(John,Peanuts) / ~Likes(John,Peanuts) ⇒ ['~Food(Peanuts)']\n",
            "\n",
            "Step 3: Resolving ['~Food(Peanuts)', 'Likes(John,Peanuts)'] and ['Food(Peanuts)'] on ~Food(Peanuts) / Food(Peanuts) ⇒ ['Likes(John,Peanuts)']\n",
            "\n",
            "Step 4: Resolving ['~Food(Peanuts)', 'Likes(John,Peanuts)'] and ['~Likes(John,Peanuts)'] on Likes(John,Peanuts) / ~Likes(John,Peanuts) ⇒ ['~Food(Peanuts)']\n",
            "\n",
            "Step 5: Resolving ['Food(Peanuts)'] and ['~Food(Peanuts)'] on Food(Peanuts) / ~Food(Peanuts) ⇒ []\n",
            "\n",
            "🎉 Contradiction (empty clause) found!\n",
            "✅ Query is PROVED TRUE by Resolution.\n",
            "\n",
            "🌳 Resolution Tree (Trace):\n",
            "\n",
            "Clause: []  (resolved Food(Peanuts)/~Food(Peanuts))\n",
            " ├─ From:\n",
            " │  Clause: ['Food(Peanuts)']\n",
            " └─ And:\n",
            "    Clause: ['~Food(Peanuts)']  (resolved Likes(John,Peanuts)/~Likes(John,Peanuts))\n",
            "     ├─ From:\n",
            "     │  Clause: ['~Food(Peanuts)', 'Likes(John,Peanuts)']\n",
            "     └─ And:\n",
            "        Clause: ['~Likes(John,Peanuts)']\n"
          ]
        },
        {
          "output_type": "execute_result",
          "data": {
            "text/plain": [
              "True"
            ]
          },
          "metadata": {},
          "execution_count": 8
        }
      ]
    }
  ]
}