{
  "nbformat": 4,
  "nbformat_minor": 0,
  "metadata": {
    "colab": {
      "provenance": [],
      "authorship_tag": "ABX9TyP5irKVbyiX0qZnVRMgYVAD",
      "include_colab_link": true
    },
    "kernelspec": {
      "name": "python3",
      "display_name": "Python 3"
    },
    "language_info": {
      "name": "python"
    }
  },
  "cells": [
    {
      "cell_type": "markdown",
      "metadata": {
        "id": "view-in-github",
        "colab_type": "text"
      },
      "source": [
        "<a href=\"https://colab.research.google.com/github/siddhantsawhney327/AI-/blob/main/Week_5_Siddhant_Sawhney_1BM23CS327_Hill_Climbing.ipynb\" target=\"_parent\"><img src=\"https://colab.research.google.com/assets/colab-badge.svg\" alt=\"Open In Colab\"/></a>"
      ]
    },
    {
      "cell_type": "code",
      "execution_count": 2,
      "metadata": {
        "colab": {
          "base_uri": "https://localhost:8080/"
        },
        "id": "AArbu5uN7odJ",
        "outputId": "de15be48-3cac-487c-b48d-412b94fcba9b"
      },
      "outputs": [
        {
          "output_type": "stream",
          "name": "stdout",
          "text": [
            "Siddhant Sawhney - 1BM23CS327\n",
            "Found solution: [2, 0, 3, 1]\n",
            "- Q - -\n",
            "- - - Q\n",
            "Q - - -\n",
            "- - Q -\n"
          ]
        }
      ],
      "source": [
        "import random\n",
        "import math\n",
        "\n",
        "def compute_cost(state):\n",
        "    \"\"\"Count diagonal conflicts for a permutation-state (one queen per row & column).\"\"\"\n",
        "    conflicts = 0\n",
        "    n = len(state)\n",
        "    for i in range(n):\n",
        "        for j in range(i + 1, n):\n",
        "            if abs(state[i] - state[j]) == abs(i - j):\n",
        "                conflicts += 1\n",
        "    return conflicts\n",
        "\n",
        "def random_permutation(n):\n",
        "    arr = list(range(n))\n",
        "    random.shuffle(arr)\n",
        "    return arr\n",
        "\n",
        "def neighbors_by_swaps(state):\n",
        "    \"\"\"All neighbors obtained by swapping two columns (keeps permutation property).\"\"\"\n",
        "    n = len(state)\n",
        "    for i in range(n - 1):\n",
        "        for j in range(i + 1, n):\n",
        "            nb = state.copy()\n",
        "            nb[i], nb[j] = nb[j], nb[i]\n",
        "            yield nb\n",
        "\n",
        "def hill_climb_with_restarts(n, max_restarts=None):\n",
        "    \"\"\"Hill climbing on permutations with random restart on plateau (no revisits).\"\"\"\n",
        "    visited = set()\n",
        "    total_states = math.factorial(n)\n",
        "    restarts = 0\n",
        "\n",
        "    while True:\n",
        "        # pick a random unvisited start permutation\n",
        "        if len(visited) >= total_states:\n",
        "            raise RuntimeError(\"All states visited — giving up (no solution found).\")\n",
        "\n",
        "        state = random_permutation(n)\n",
        "        while tuple(state) in visited:\n",
        "            state = random_permutation(n)\n",
        "        visited.add(tuple(state))\n",
        "\n",
        "        # climb from this start\n",
        "        while True:\n",
        "            cost = compute_cost(state)\n",
        "            if cost == 0:\n",
        "                return state, restarts\n",
        "\n",
        "            # find best neighbor (swap-based neighbors)\n",
        "            best_neighbor = None\n",
        "            best_cost = float(\"inf\")\n",
        "            for nb in neighbors_by_swaps(state):\n",
        "                c = compute_cost(nb)\n",
        "                if c < best_cost:\n",
        "                    best_cost = c\n",
        "                    best_neighbor = nb\n",
        "\n",
        "            # if strictly better, move; otherwise it's a plateau/local optimum -> restart\n",
        "            if best_cost < cost:\n",
        "                state = best_neighbor\n",
        "                visited.add(tuple(state))\n",
        "            else:\n",
        "                # plateau or local optimum -> restart\n",
        "                restarts += 1\n",
        "                if max_restarts is not None and restarts >= max_restarts:\n",
        "                    raise RuntimeError(f\"Stopped after {restarts} restarts (no solution found).\")\n",
        "                break  # go pick a new unvisited start\n",
        "\n",
        "def format_board(state):\n",
        "    n = len(state)\n",
        "    lines = []\n",
        "    for r in range(n):\n",
        "        lines.append(\" \".join(\"Q\" if state[c] == r else \"-\" for c in range(n)))\n",
        "    return \"\\n\".join(lines)\n",
        "\n",
        "if __name__ == \"__main__\":\n",
        "    n = 4\n",
        "    print(\"Siddhant Sawhney - 1BM23CS327\")\n",
        "    solution, restarts = hill_climb_with_restarts(n)\n",
        "    print(\"Found solution:\", solution)\n",
        "    print(format_board(solution))\n"
      ]
    }
  ]
}