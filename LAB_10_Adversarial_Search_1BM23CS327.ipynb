{
  "nbformat": 4,
  "nbformat_minor": 0,
  "metadata": {
    "colab": {
      "provenance": [],
      "authorship_tag": "ABX9TyMBpc8JZK5gYW/BbdnDCxOJ",
      "include_colab_link": true
    },
    "kernelspec": {
      "name": "python3",
      "display_name": "Python 3"
    },
    "language_info": {
      "name": "python"
    }
  },
  "cells": [
    {
      "cell_type": "markdown",
      "metadata": {
        "id": "view-in-github",
        "colab_type": "text"
      },
      "source": [
        "<a href=\"https://colab.research.google.com/github/siddhantsawhney327/AI-/blob/main/LAB_10_Adversarial_Search_1BM23CS327.ipynb\" target=\"_parent\"><img src=\"https://colab.research.google.com/assets/colab-badge.svg\" alt=\"Open In Colab\"/></a>"
      ]
    },
    {
      "cell_type": "code",
      "execution_count": 3,
      "metadata": {
        "colab": {
          "base_uri": "https://localhost:8080/"
        },
        "id": "LZR1eN0ONo2e",
        "outputId": "4bbc6827-b551-458d-d35d-f7cd5f1ab196"
      },
      "outputs": [
        {
          "output_type": "stream",
          "name": "stdout",
          "text": [
            "🧠 ALPHA–BETA PRUNING — Interactive Demo\n",
            "==========================================\n",
            "\n",
            "Enter maximum depth of the game tree: 3\n",
            "For depth 3, the tree will have 8 leaf nodes.\n",
            "\n",
            "Enter the leaf node values from LEFT to RIGHT:\n",
            "Value of leaf 1: 3\n",
            "Value of leaf 2: 5\n",
            "Value of leaf 3: 6\n",
            "Value of leaf 4: 9\n",
            "Value of leaf 5: 1\n",
            "Value of leaf 6: 22\n",
            "Value of leaf 7: 0\n",
            "Value of leaf 8: -1\n",
            "\n",
            "🔁 Running Alpha–Beta pruning...\n",
            "\n",
            "MAX: Depth=2, Node=3, Alpha=3, Beta=inf\n",
            "MAX: Depth=2, Node=3, Alpha=5, Beta=inf\n",
            "MIN: Depth=1, Node=1, Alpha=-inf, Beta=5\n",
            "MAX: Depth=2, Node=4, Alpha=6, Beta=5\n",
            "🚫 PRUNED at MAX node 4 (α ≥ β)\n",
            "MIN: Depth=1, Node=1, Alpha=-inf, Beta=5\n",
            "MAX: Depth=0, Node=0, Alpha=5, Beta=inf\n",
            "MAX: Depth=2, Node=5, Alpha=5, Beta=inf\n",
            "MAX: Depth=2, Node=5, Alpha=22, Beta=inf\n",
            "MIN: Depth=1, Node=2, Alpha=5, Beta=22\n",
            "MAX: Depth=2, Node=6, Alpha=5, Beta=22\n",
            "MAX: Depth=2, Node=6, Alpha=5, Beta=22\n",
            "MIN: Depth=1, Node=2, Alpha=5, Beta=0\n",
            "🚫 PRUNED at MIN node 2 (α ≥ β)\n",
            "MAX: Depth=0, Node=0, Alpha=5, Beta=inf\n",
            "\n",
            "✅ Final Result:\n",
            "Value of the root node (best achievable for MAX): 5\n"
          ]
        }
      ],
      "source": [
        "def alpha_beta(node, depth, alpha, beta, isMax, values, maxDepth):\n",
        "    # Base Case: leaf node\n",
        "    if depth == maxDepth:\n",
        "        # compute index of leaf node\n",
        "        first_leaf_index = (2 ** maxDepth) - 1\n",
        "        leaf_idx = node - first_leaf_index\n",
        "        return values[leaf_idx]\n",
        "\n",
        "    if isMax:\n",
        "        best = float('-inf')\n",
        "        for i in range(2):  # two children (left and right)\n",
        "            child_node = node * 2 + i + 1\n",
        "            val = alpha_beta(child_node, depth + 1, alpha, beta, False, values, maxDepth)\n",
        "            best = max(best, val)\n",
        "            alpha = max(alpha, best)\n",
        "            print(f\"MAX: Depth={depth}, Node={node}, Alpha={alpha}, Beta={beta}\")\n",
        "\n",
        "            if beta <= alpha:\n",
        "                print(f\"🚫 PRUNED at MAX node {node} (α ≥ β)\")\n",
        "                break\n",
        "        return best\n",
        "    else:\n",
        "        best = float('inf')\n",
        "        for i in range(2):\n",
        "            child_node = node * 2 + i + 1\n",
        "            val = alpha_beta(child_node, depth + 1, alpha, beta, True, values, maxDepth)\n",
        "            best = min(best, val)\n",
        "            beta = min(beta, best)\n",
        "            print(f\"MIN: Depth={depth}, Node={node}, Alpha={alpha}, Beta={beta}\")\n",
        "\n",
        "            if beta <= alpha:\n",
        "                print(f\"🚫 PRUNED at MIN node {node} (α ≥ β)\")\n",
        "                break\n",
        "        return best\n",
        "\n",
        "\n",
        "# ============================================================\n",
        "# MAIN PROGRAM\n",
        "# ============================================================\n",
        "\n",
        "print(\"🧠 ALPHA–BETA PRUNING — Interactive Demo\")\n",
        "print(\"==========================================\\n\")\n",
        "\n",
        "# Step 1️⃣: Get depth of tree\n",
        "maxDepth = int(input(\"Enter maximum depth of the game tree: \"))\n",
        "\n",
        "# Step 2️⃣: Number of leaves = 2^maxDepth\n",
        "num_leaves = 2 ** maxDepth\n",
        "print(f\"For depth {maxDepth}, the tree will have {num_leaves} leaf nodes.\\n\")\n",
        "\n",
        "# Step 3️⃣: Get leaf node values\n",
        "values = []\n",
        "print(\"Enter the leaf node values from LEFT to RIGHT:\")\n",
        "for i in range(num_leaves):\n",
        "    val = int(input(f\"Value of leaf {i + 1}: \"))\n",
        "    values.append(val)\n",
        "\n",
        "# Step 4️⃣: Run Alpha–Beta pruning\n",
        "print(\"\\n🔁 Running Alpha–Beta pruning...\\n\")\n",
        "result = alpha_beta(0, 0, float('-inf'), float('inf'), True, values, maxDepth)\n",
        "\n",
        "# Step 5️⃣: Display result\n",
        "print(\"\\n✅ Final Result:\")\n",
        "print(f\"Value of the root node (best achievable for MAX): {result}\")"
      ]
    }
  ]
}