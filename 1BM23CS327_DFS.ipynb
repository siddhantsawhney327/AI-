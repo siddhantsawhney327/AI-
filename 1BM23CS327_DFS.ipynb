{
  "nbformat": 4,
  "nbformat_minor": 0,
  "metadata": {
    "colab": {
      "provenance": [],
      "authorship_tag": "ABX9TyOBi7HcWcVhZalG08pkpuUI",
      "include_colab_link": true
    },
    "kernelspec": {
      "name": "python3",
      "display_name": "Python 3"
    },
    "language_info": {
      "name": "python"
    }
  },
  "cells": [
    {
      "cell_type": "markdown",
      "metadata": {
        "id": "view-in-github",
        "colab_type": "text"
      },
      "source": [
        "<a href=\"https://colab.research.google.com/github/siddhantsawhney327/AI-/blob/main/1BM23CS327_DFS.ipynb\" target=\"_parent\"><img src=\"https://colab.research.google.com/assets/colab-badge.svg\" alt=\"Open In Colab\"/></a>"
      ]
    },
    {
      "cell_type": "code",
      "execution_count": 1,
      "metadata": {
        "colab": {
          "base_uri": "https://localhost:8080/"
        },
        "id": "TYIb_TY7vTXp",
        "outputId": "3a7716fb-5955-4383-d2e0-5164d92fd974"
      },
      "outputs": [
        {
          "output_type": "stream",
          "name": "stdout",
          "text": [
            "DFS Solution Path:\n",
            "No solution found within depth limit\n"
          ]
        }
      ],
      "source": [
        "# Goal state\n",
        "goal_state = [\n",
        "    [1, 2, 3],\n",
        "    [4, 5, 6],\n",
        "    [7, 8, 0]\n",
        "]\n",
        "\n",
        "# Convert state to tuple (for sets/dictionaries)\n",
        "def to_tuple(state):\n",
        "    return tuple([num for row in state for num in row])\n",
        "\n",
        "# Find blank (0) position\n",
        "def find_blank(state):\n",
        "    for i in range(3):\n",
        "        for j in range(3):\n",
        "            if state[i][j] == 0:\n",
        "                return i, j\n",
        "\n",
        "# Generate possible moves\n",
        "def get_neighbors(state):\n",
        "    x, y = find_blank(state)\n",
        "    moves = []\n",
        "    directions = [(0,1),(0,-1),(1,0),(-1,0)]  # Right, Left, Down, Up\n",
        "    for dx, dy in directions:\n",
        "        nx, ny = x+dx, y+dy\n",
        "        if 0 <= nx < 3 and 0 <= ny < 3:\n",
        "            new_state = [row[:] for row in state]\n",
        "            new_state[x][y], new_state[nx][ny] = new_state[nx][ny], new_state[x][y]\n",
        "            moves.append(new_state)\n",
        "    return moves\n",
        "\n",
        "# DFS Algorithm (recursive with depth limit)\n",
        "def dfs(start, depth_limit=20):\n",
        "    stack = [(start, [])]  # (current_state, path)\n",
        "    visited = set()\n",
        "\n",
        "    while stack:\n",
        "        current, path = stack.pop()\n",
        "\n",
        "        if current == goal_state:\n",
        "            return path + [current]  # Solution found\n",
        "\n",
        "        if len(path) >= depth_limit:  # Stop if too deep\n",
        "            continue\n",
        "\n",
        "        visited.add(to_tuple(current))\n",
        "\n",
        "        for neighbor in get_neighbors(current):\n",
        "            if to_tuple(neighbor) not in visited:\n",
        "                stack.append((neighbor, path + [current]))\n",
        "\n",
        "    return None  # No solution within depth limit\n",
        "\n",
        "# Example usage\n",
        "initial_state = [\n",
        "    [2, 8, 3],\n",
        "    [1, 6, 4],\n",
        "    [7, 0, 5]\n",
        "]\n",
        "\n",
        "solution = dfs(initial_state, depth_limit=30)\n",
        "\n",
        "print(\"DFS Solution Path:\")\n",
        "if solution:\n",
        "    for step in solution:\n",
        "        for row in step:\n",
        "            print(row)\n",
        "        print()\n",
        "else:\n",
        "    print(\"No solution found within depth limit\")\n"
      ]
    }
  ]
}